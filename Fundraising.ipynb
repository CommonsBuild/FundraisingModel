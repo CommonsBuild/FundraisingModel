{
 "cells": [
  {
   "cell_type": "code",
   "execution_count": 2,
   "metadata": {},
   "outputs": [],
   "source": [
    "import pandas as pd\n",
    "import param as pm\n",
    "import panel as pn\n",
    "import hvplot.pandas\n",
    "import holoviews as hv\n",
    "import numpy as np\n",
    "\n",
    "pn.extension()"
   ]
  },
  {
   "cell_type": "code",
   "execution_count": 106,
   "metadata": {},
   "outputs": [],
   "source": [
    "class Fundraising(pm.Parameterized):\n",
    "    total_raised = pm.Number(1e6, bounds=(1e5, 1e7), precedence=-1)\n",
    "    hatch_tribute = pm.Number(0.05, bounds=(0,1), precedence=-1)\n",
    "    hatch_price = pm.Number(1, bounds=(0.5,2), precedence=-1)\n",
    "    initial_price = pm.Number(2, bounds=(1,4))\n",
    "    expected_growth = pm.Number(2, bounds=(1,100))\n",
    "    reserve_ratio = pm.Number(0.1, bounds=(0,1))\n",
    "    entry_tribute = pm.Number(0.0, bounds=(0,0.5), precedence=-1)\n",
    "    exit_tribute = pm.Number(0.0, bounds=(0,0.5), precedence=-1)\n",
    "    token_supply = pm.Number(1e6)\n",
    "    reserve_balance = pm.Number(1e6)\n",
    "    \n",
    "    \n",
    "    def xrate(self):\n",
    "        return 1 / self.hatch_price\n",
    "    \n",
    "    def growth(self):\n",
    "        return self.expected_growth\n",
    "    \n",
    "    def pctOffered(self):\n",
    "        return 1\n",
    "    \n",
    "    def pctBeneficiary(self):\n",
    "        return self.hatch_tribute\n",
    "    \n",
    "    def sSupply(self):\n",
    "        return self.total_raised * self.xrate()\n",
    "    \n",
    "    def sBalance(self):\n",
    "        return self.total_raised * (1 - self.hatch_tribute)\n",
    "    \n",
    "    def sPrice(self):\n",
    "        return self.initial_price\n",
    "    \n",
    "    def sMarketCap(self):\n",
    "        return self.sSupply() * self.sPrice()\n",
    "    \n",
    "    def eMarketCap(self):\n",
    "        return self.sMarketCap() * self.growth()\n",
    "    \n",
    "    def ePrice(self):\n",
    "        return self.sPrice() * np.sqrt(self.growth())\n",
    "    \n",
    "    def ppSupply(self):\n",
    "#         ppSupply = (ePrice / (eMarketCap ** (1 - reserveRatio) * (sPrice ** reserveRatio))) ** (1 / (reserveRatio - 1))\n",
    "        return (self.ePrice() / (self.eMarketCap()**(1 - self.reserve_ratio) * (self.sPrice() ** self.reserve_ratio))) ** (1 / (self.reserve_ratio - 1))\n",
    "                                                   \n",
    "    def vSupply(self):\n",
    "        return self.ppSupply() - self.sSupply()\n",
    "    \n",
    "    def ppBalance(self):\n",
    "        return self.sPrice() * self.ppSupply() * self.reserve_ratio\n",
    "    \n",
    "    def vBalance(self):\n",
    "        return self.ppBalance() - self.sBalance()\n",
    "    \n",
    "    def get_outputs(self):\n",
    "        outputs = pd.DataFrame({\n",
    "            \"sSupply\": f.sSupply(),\n",
    "            \"sBalance\": f.sBalance(),\n",
    "            \"sPrice\": f.sPrice(),\n",
    "            \"sMarketcap\": f.sMarketCap(),\n",
    "            \"ePrice\": f.ePrice(),\n",
    "            \"eMarketCap\": f.eMarketCap(),\n",
    "            \"ppSupply\": f.ppSupply(),\n",
    "            \"vSupply\": f.vSupply(),\n",
    "            \"ppBalance\": f.ppBalance(),\n",
    "            \"vBalance\": f.vBalance(),\n",
    "        }, index=['Value'])\n",
    "        return outputs\n",
    "    \n",
    "    def view_outputs(self):\n",
    "        outputs = self.get_outputs()\n",
    "        return outputs.apply(lambda x: round(x, 2)).T\n",
    "\n",
    "    def buy_amount(self, supply, collateral, pay_amount, reserve_ratio):\n",
    "        # buyAmt = tokenSupply * ((1 + amtPaid / collateral)^CW — 1)\n",
    "        return supply * ((1 + pay_amount / collateral)**reserve_ratio - 1)\n",
    "    \n",
    "    def sell_amount(self, supply, collateral, sell_amount, reserve_ratio):\n",
    "        # sellAmt = collateral * ((1 + tokensSold / totalSupply)^(1/CW) — 1)\n",
    "        return collateral * ((1 + sell_amount / supply)**(1/reserve_ratio) - 1)\n",
    "    \n",
    "    def make_buy_order(self, buy_amount):\n",
    "        fee = buy_amount * self.entry_tribute\n",
    "        buy_amount = buy_amount - fee\n",
    "        self.reserve_balance += buy_amount\n",
    "        collateral_supply = self.token_supply + self.vSupply()\n",
    "        collateral_balance = self.reserve_balance + self.vBalance()\n",
    "        return_amount = self.buy_amount(collateral_supply, collateral_balance, buy_amount, self.reserve_ratio)\n",
    "        self.token_supply += return_amount\n",
    "        return return_amount\n",
    "        \n",
    "    def make_sell_order(self, sell_amount):\n",
    "        collateral_supply = self.token_supply + self.vSupply()\n",
    "        collateral_balance = self.reserve_balance + self.vBalance()\n",
    "        return_amount = self.sell_amount(collateral_supply, collateral_balance, sell_amount, self.reserve_ratio)\n",
    "        fee = return_amount * self.exit_tribute \n",
    "        self.token_supply -= sell_amount\n",
    "        self.reserve_balance -= return_amount - fee\n",
    "        return return_amount - fee        "
   ]
  },
  {
   "cell_type": "code",
   "execution_count": 107,
   "metadata": {},
   "outputs": [],
   "source": [
    "f = Fundraising()"
   ]
  },
  {
   "cell_type": "code",
   "execution_count": 108,
   "metadata": {},
   "outputs": [
    {
     "data": {},
     "metadata": {},
     "output_type": "display_data"
    },
    {
     "data": {
      "application/vnd.holoviews_exec.v0+json": "",
      "text/html": [
       "<div id='2420'>\n",
       "\n",
       "\n",
       "\n",
       "\n",
       "\n",
       "  <div class=\"bk-root\" id=\"4521fdf1-a0a5-4326-8894-3446f83b3506\" data-root-id=\"2420\"></div>\n",
       "</div>\n",
       "<script type=\"application/javascript\">(function(root) {\n",
       "  function embed_document(root) {\n",
       "    var docs_json = {\"e6ab8a1e-a068-4d1b-b524-2f7ee28f56c1\":{\"defs\":[],\"roots\":{\"references\":[{\"attributes\":{\"children\":[{\"id\":\"2421\"},{\"id\":\"2428\"}],\"margin\":[0,0,0,0],\"name\":\"Row01949\"},\"id\":\"2420\",\"type\":\"Row\"},{\"attributes\":{\"margin\":[5,10,5,10],\"name\":\"\",\"text\":\"<b>Fundraising</b>\"},\"id\":\"2422\",\"type\":\"Div\"},{\"attributes\":{\"children\":[{\"id\":\"2429\"}],\"margin\":[0,0,0,0],\"name\":\"Row01946\"},\"id\":\"2428\",\"type\":\"Row\"},{\"attributes\":{\"end\":100,\"margin\":[5,10,5,10],\"start\":1,\"step\":0.1,\"title\":\"Expected growth\",\"value\":2},\"id\":\"2424\",\"type\":\"Slider\"},{\"attributes\":{\"end\":1,\"margin\":[5,10,5,10],\"start\":0,\"step\":0.1,\"title\":\"Reserve ratio\",\"value\":0.1},\"id\":\"2425\",\"type\":\"Slider\"},{\"attributes\":{\"margin\":[5,10,5,10],\"placeholder\":\"0\",\"step\":0.1,\"title\":\"Token supply\",\"value\":1000000.0,\"value_throttled\":1000000.0},\"id\":\"2426\",\"type\":\"Spinner\"},{\"attributes\":{\"reload\":false},\"id\":\"2431\",\"type\":\"panel.models.location.Location\"},{\"attributes\":{\"children\":[{\"id\":\"2422\"},{\"id\":\"2423\"},{\"id\":\"2424\"},{\"id\":\"2425\"},{\"id\":\"2426\"},{\"id\":\"2427\"}],\"margin\":[5,5,5,5],\"min_width\":300,\"name\":\"Fundraising\",\"width\":300},\"id\":\"2421\",\"type\":\"Column\"},{\"attributes\":{\"margin\":[5,10,5,10],\"placeholder\":\"0\",\"step\":0.1,\"title\":\"Reserve balance\",\"value\":1000000.0,\"value_throttled\":1000000.0},\"id\":\"2427\",\"type\":\"Spinner\"},{\"attributes\":{\"margin\":[5,5,5,5],\"name\":\"ParamMethod01942\",\"text\":\"&lt;table border=&quot;0&quot; class=&quot;dataframe panel-df&quot;&gt;\\n  &lt;thead&gt;\\n    &lt;tr style=&quot;text-align: right;&quot;&gt;\\n      &lt;th&gt;&lt;/th&gt;\\n      &lt;th&gt;Value&lt;/th&gt;\\n    &lt;/tr&gt;\\n  &lt;/thead&gt;\\n  &lt;tbody&gt;\\n    &lt;tr&gt;\\n      &lt;th&gt;sSupply&lt;/th&gt;\\n      &lt;td&gt;1000000.00&lt;/td&gt;\\n    &lt;/tr&gt;\\n    &lt;tr&gt;\\n      &lt;th&gt;sBalance&lt;/th&gt;\\n      &lt;td&gt;950000.00&lt;/td&gt;\\n    &lt;/tr&gt;\\n    &lt;tr&gt;\\n      &lt;th&gt;sPrice&lt;/th&gt;\\n      &lt;td&gt;2.00&lt;/td&gt;\\n    &lt;/tr&gt;\\n    &lt;tr&gt;\\n      &lt;th&gt;sMarketcap&lt;/th&gt;\\n      &lt;td&gt;2000000.00&lt;/td&gt;\\n    &lt;/tr&gt;\\n    &lt;tr&gt;\\n      &lt;th&gt;ePrice&lt;/th&gt;\\n      &lt;td&gt;2.83&lt;/td&gt;\\n    &lt;/tr&gt;\\n    &lt;tr&gt;\\n      &lt;th&gt;eMarketCap&lt;/th&gt;\\n      &lt;td&gt;4000000.00&lt;/td&gt;\\n    &lt;/tr&gt;\\n    &lt;tr&gt;\\n      &lt;th&gt;ppSupply&lt;/th&gt;\\n      &lt;td&gt;1360790.00&lt;/td&gt;\\n    &lt;/tr&gt;\\n    &lt;tr&gt;\\n      &lt;th&gt;vSupply&lt;/th&gt;\\n      &lt;td&gt;360790.00&lt;/td&gt;\\n    &lt;/tr&gt;\\n    &lt;tr&gt;\\n      &lt;th&gt;ppBalance&lt;/th&gt;\\n      &lt;td&gt;272158.00&lt;/td&gt;\\n    &lt;/tr&gt;\\n    &lt;tr&gt;\\n      &lt;th&gt;vBalance&lt;/th&gt;\\n      &lt;td&gt;-677842.00&lt;/td&gt;\\n    &lt;/tr&gt;\\n  &lt;/tbody&gt;\\n&lt;/table&gt;\"},\"id\":\"2429\",\"type\":\"panel.models.markup.HTML\"},{\"attributes\":{\"client_comm_id\":\"8e7a85befa8c45978217c3a7cbae7c32\",\"comm_id\":\"8bd5d0c138c8461abf17196037923b51\",\"plot_id\":\"2420\"},\"id\":\"2430\",\"type\":\"panel.models.comm_manager.CommManager\"},{\"attributes\":{\"end\":4,\"margin\":[5,10,5,10],\"start\":1,\"step\":0.1,\"title\":\"Initial price\",\"value\":2},\"id\":\"2423\",\"type\":\"Slider\"}],\"root_ids\":[\"2420\",\"2430\",\"2431\"]},\"title\":\"Bokeh Application\",\"version\":\"2.3.1\"}};\n",
       "    var render_items = [{\"docid\":\"e6ab8a1e-a068-4d1b-b524-2f7ee28f56c1\",\"root_ids\":[\"2420\"],\"roots\":{\"2420\":\"4521fdf1-a0a5-4326-8894-3446f83b3506\"}}];\n",
       "    root.Bokeh.embed.embed_items_notebook(docs_json, render_items);\n",
       "  }\n",
       "  if (root.Bokeh !== undefined && root.Bokeh.Panel !== undefined) {\n",
       "    embed_document(root);\n",
       "  } else {\n",
       "    var attempts = 0;\n",
       "    var timer = setInterval(function(root) {\n",
       "      if (root.Bokeh !== undefined && root.Bokeh.Panel !== undefined) {\n",
       "        clearInterval(timer);\n",
       "        embed_document(root);\n",
       "      } else if (document.readyState == \"complete\") {\n",
       "        attempts++;\n",
       "        if (attempts > 100) {\n",
       "          clearInterval(timer);\n",
       "          console.log(\"Bokeh: ERROR: Unable to run BokehJS code because BokehJS library is missing\");\n",
       "        }\n",
       "      }\n",
       "    }, 10, root)\n",
       "  }\n",
       "})(window);</script>"
      ],
      "text/plain": [
       "Row\n",
       "    [0] Column(margin=5, name='Fundraising', width=300)\n",
       "        [0] StaticText(value='<b>Fundraising</b>')\n",
       "        [1] FloatSlider(end=4, name='Initial price', start=1, value=2)\n",
       "        [2] FloatSlider(end=100, name='Expected growth', start=1, value=2)\n",
       "        [3] FloatSlider(name='Reserve ratio', value=0.1)\n",
       "        [4] FloatInput(name='Token supply', value=1000000.0)\n",
       "        [5] FloatInput(name='Reserve balance', value=1000000.0)\n",
       "    [1] ParamMethod(method)"
      ]
     },
     "execution_count": 108,
     "metadata": {
      "application/vnd.holoviews_exec.v0+json": {
       "id": "2420"
      }
     },
     "output_type": "execute_result"
    }
   ],
   "source": [
    "pn.Row(f, f.view_outputs)"
   ]
  },
  {
   "cell_type": "code",
   "execution_count": 114,
   "metadata": {},
   "outputs": [
    {
     "data": {
      "text/plain": [
       "45.558339435138045"
      ]
     },
     "execution_count": 114,
     "metadata": {},
     "output_type": "execute_result"
    }
   ],
   "source": [
    "f.make_buy_order(1000)"
   ]
  },
  {
   "cell_type": "code",
   "execution_count": null,
   "metadata": {},
   "outputs": [],
   "source": []
  },
  {
   "cell_type": "code",
   "execution_count": null,
   "metadata": {},
   "outputs": [],
   "source": []
  },
  {
   "cell_type": "code",
   "execution_count": null,
   "metadata": {},
   "outputs": [],
   "source": []
  },
  {
   "cell_type": "code",
   "execution_count": null,
   "metadata": {},
   "outputs": [],
   "source": []
  },
  {
   "cell_type": "code",
   "execution_count": null,
   "metadata": {},
   "outputs": [],
   "source": []
  },
  {
   "cell_type": "code",
   "execution_count": null,
   "metadata": {},
   "outputs": [],
   "source": []
  },
  {
   "cell_type": "code",
   "execution_count": null,
   "metadata": {},
   "outputs": [],
   "source": [
    "class Fundraising(pm.Parameterized):\n",
    "    total_raised = pm.Number(1e6, bounds=(1e5, 1e7), precedence=-1)\n",
    "    hatch_tribute = pm.Number(0.05, bounds=(0,1), precedence=-1)\n",
    "    hatch_price = pm.Number(1, bounds=(0.5,2), precedence=-1)\n",
    "    initial_price = pm.Number(2, bounds=(1,4))\n",
    "    expected_growth = pm.Number(2, bounds=(1,100))\n",
    "    reserve_ratio = pm.Number(0.1, bounds=(0,1))\n",
    "    entry_tribute = pm.Number(0.05, bounds=(0,0.5), precedence=-1)\n",
    "    exit_tribute = pm.Number(0.05, bounds=(0,0.5), precedence=-1)\n",
    "    \n",
    "    \n",
    "    def sBalance(self):\n",
    "        return self.total_raised * (1 - self.hatch_tribute)\n",
    "    \n",
    "    def sMarketCap(self):\n",
    "        return self.initial_price * self.total_raised / self.hatch_price\n",
    "    \n",
    "    def eMarketCap(self):\n",
    "        return self.expected_growth * self.sMarketCap()\n",
    "    \n",
    "    def ePrice(self):\n",
    "        return self.initial_price * np.sqrt(self.expected_growth)\n",
    "    \n",
    "    def ppSupply(self):\n",
    "        return (self.ePrice() / (self.eMarketCap()**(1 - self.reserve_ratio) * (self.initial_price ** self.reserve_ratio))) ** (1 / (self.reserve_ratio - 1))\n",
    "                                                   \n",
    "    def vSupply(self):\n",
    "        return self.ppSupply() - (self.total_raised / self.hatch_price)\n",
    "    \n",
    "    def ppBalance(self):\n",
    "        return self.initial_price * self.ppSupply() * self.reserve_ratio\n",
    "    \n",
    "    def vBalance(self):\n",
    "        return self.ppBalance() - self.sBalance()\n",
    "    \n",
    "    def get_outputs(self):\n",
    "        outputs = pd.DataFrame({\n",
    "            \"sSupply\": f.sSupply(),\n",
    "            \"sBalance\": f.sBalance(),\n",
    "            \"sPrice\": f.sPrice(),\n",
    "            \"sMarketcap\": f.sMarketCap(),\n",
    "            \"ePrice\": f.ePrice(),\n",
    "            \"eMarketCap\": f.eMarketCap(),\n",
    "            \"ppSupply\": f.ppSupply(),\n",
    "            \"vSupply\": f.vSupply(),\n",
    "            \"ppBalance\": f.ppBalance(),\n",
    "            \"vBalance\": f.vBalance(),\n",
    "        }, index=['Value'])\n",
    "        return outputs\n",
    "    \n",
    "    def view_outputs(self):\n",
    "        outputs = self.get_outputs()\n",
    "        return outputs.apply(lambda x: round(x, 2)).T"
   ]
  }
 ],
 "metadata": {
  "kernelspec": {
   "display_name": "Python 3",
   "language": "python",
   "name": "python3"
  },
  "language_info": {
   "codemirror_mode": {
    "name": "ipython",
    "version": 3
   },
   "file_extension": ".py",
   "mimetype": "text/x-python",
   "name": "python",
   "nbconvert_exporter": "python",
   "pygments_lexer": "ipython3",
   "version": "3.8.2"
  }
 },
 "nbformat": 4,
 "nbformat_minor": 4
}
